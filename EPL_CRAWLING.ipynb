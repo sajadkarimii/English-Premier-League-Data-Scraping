{
  "cells": [
    {
      "cell_type": "code",
      "execution_count": null,
      "id": "bd6eb0eb-a796-4cb9-8e7f-2606eaf5b115",
      "metadata": {
        "id": "bd6eb0eb-a796-4cb9-8e7f-2606eaf5b115"
      },
      "outputs": [],
      "source": [
        "import pandas as pd\n",
        "from bs4 import BeautifulSoup\n",
        "import time\n",
        "import requests\n",
        "import openpyxl"
      ]
    },
    {
      "cell_type": "code",
      "execution_count": null,
      "id": "0d13db9d-17e6-40f3-b1ab-21ca47d5ff0d",
      "metadata": {
        "id": "0d13db9d-17e6-40f3-b1ab-21ca47d5ff0d"
      },
      "outputs": [],
      "source": [
        "class crawl:\n",
        "    DATE = []\n",
        "    HomeTeam = []\n",
        "    AwayTeam = []\n",
        "    FTHG = []\n",
        "    FTAG = []\n",
        "    HTHG = []\n",
        "    HTAG = []\n",
        "    REF = []\n",
        "\n",
        "    def source(self , link , season='all'):\n",
        "        self.DATE = []\n",
        "        self.HomeTeam = []\n",
        "        self.AwayTeam = []\n",
        "        self.FTHG = []\n",
        "        self.FTAG = []\n",
        "        self.HTHG = []\n",
        "        self.HTAG = []\n",
        "        self.REF = []\n",
        "\n",
        "        for i in range(1,463):\n",
        "          page = requests.get(link + f\"{i}\")\n",
        "          soup = BeautifulSoup(page.content ,'html.parser')\n",
        "          self.crawling(soup)\n",
        "        self.save()\n",
        "\n",
        "    def crawling(self , source):\n",
        "        try :\n",
        "            self.DATE.append(source.find('div' , {\"class\":\"mc-summary__info\"}).text.strip())\n",
        "        except :\n",
        "            self.DATE.append(None)\n",
        "        try :\n",
        "            self.HomeTeam.append(source.find_all('div' , {'class' : 'mc-summary__team-container'})[0].find('span' , {'class' : 'mc-summary__team-name u-hide-phablet'}).text.strip())\n",
        "        except :\n",
        "            self.HomeTeam.append(None)\n",
        "        try :\n",
        "            self.AwayTeam.append(source.find_all('div' , {'class' : 'mc-summary__team-container'})[1].find('span' , {'class' : 'mc-summary__team-name u-hide-phablet'}).text.strip())\n",
        "        except :\n",
        "            self.AwayTeam.append(None)\n",
        "        try :\n",
        "            self.FTHG.append(source.find('div' , {'class' : 'mc-summary__score js-mc-score'}).text.strip()[0])\n",
        "        except :\n",
        "            self.FTHG.append(None)\n",
        "        try :\n",
        "            self.FTAG.append(source.find('div' , {'class' : 'mc-summary__score js-mc-score'}).text.strip()[-1])\n",
        "        except :\n",
        "            self.FTAG.append(None)\n",
        "        try :\n",
        "            self.HTHG.append(source.find('span' , {'class' : 'js-mc-half-time-score'}).text.strip()[0])\n",
        "        except :\n",
        "            self.HTHG.append(None)\n",
        "        try :\n",
        "            self.HTAG.append(source.find('span' , {'class' : 'js-mc-half-time-score'}).text.strip()[-1])\n",
        "        except :\n",
        "            self.HTAG.append(None)\n",
        "        try :\n",
        "            self.REF.append(source.find_all('div' , {'class' : 'mc-summary__info'})[3].text.strip()[5:])\n",
        "        except :\n",
        "            self.REF.append(None)\n",
        "\n",
        "    def save(self):\n",
        "        # Save into dictionary\n",
        "        dict = {}\n",
        "        dict['DATE'] = self.DATE\n",
        "        dict['HomeTeam'] = self.HomeTeam\n",
        "        dict['AwayTeam'] = self.AwayTeam\n",
        "        dict['FTHG'] = self.FTHG\n",
        "        dict['FTAG'] = self.FTAG\n",
        "        dict['HTHG'] = self.HTHG\n",
        "        dict['HTAG'] = self.HTAG\n",
        "        dict['REF'] = self.REF\n",
        "        # Save into dataframe\n",
        "        df = pd.DataFrame(dict)\n",
        "        df['FTR'] = 0\n",
        "        df['HTR'] = 0\n",
        "        for i in range(len(df)):\n",
        "          if df['FTHG'][i]>df['FTAG'][i]:\n",
        "            df['FTR'][i] = df['HomeTeam'][i]\n",
        "          elif df['FTHG'][i]<df['FTAG'][i]:\n",
        "            df['FTR'][i] = df['AwayTeam'][i]\n",
        "          else:\n",
        "            df['FTR'][i] = 'D'\n",
        "          if df['HTHG'][i]>df['HTAG'][i]:\n",
        "            df['HTR'][i] = df['HomeTeam'][i]\n",
        "          elif df['HTHG'][i]<df['HTAG'][i]:\n",
        "            df['HTR'][i] = df['AwayTeam'][i]\n",
        "          else:\n",
        "            df['HTR'][i] = 'D'\n",
        "\n",
        "        df.to_csv('EPL.csv')"
      ]
    },
    {
      "cell_type": "code",
      "execution_count": null,
      "id": "a94b0e28-a9b3-4237-90b0-94154165a5c4",
      "metadata": {
        "id": "a94b0e28-a9b3-4237-90b0-94154165a5c4"
      },
      "outputs": [],
      "source": [
        "ob = crawl()"
      ]
    },
    {
      "cell_type": "code",
      "source": [
        "s = ob.source(\"https://www.premierleague.com/match/\")"
      ],
      "metadata": {
        "id": "9TZvGxvpcvJI",
        "colab": {
          "base_uri": "https://localhost:8080/"
        },
        "outputId": "e87f64d0-0403-40db-ffe6-21dc1368ee0e"
      },
      "id": "9TZvGxvpcvJI",
      "execution_count": null,
      "outputs": [
        {
          "output_type": "stream",
          "name": "stderr",
          "text": [
            "<ipython-input-66-48745ba02164>:80: FutureWarning: ChainedAssignmentError: behaviour will change in pandas 3.0!\n",
            "You are setting values through chained assignment. Currently this works in certain cases, but when using Copy-on-Write (which will become the default behaviour in pandas 3.0) this will never work to update the original DataFrame or Series, because the intermediate object on which we are setting values will behave as a copy.\n",
            "A typical example is when you are setting values in a column of a DataFrame, like:\n",
            "\n",
            "df[\"col\"][row_indexer] = value\n",
            "\n",
            "Use `df.loc[row_indexer, \"col\"] = values` instead, to perform the assignment in a single step and ensure this keeps updating the original `df`.\n",
            "\n",
            "See the caveats in the documentation: https://pandas.pydata.org/pandas-docs/stable/user_guide/indexing.html#returning-a-view-versus-a-copy\n",
            "\n",
            "  df['FTR'][i] = df['AwayTeam'][i]\n",
            "<ipython-input-66-48745ba02164>:80: SettingWithCopyWarning: \n",
            "A value is trying to be set on a copy of a slice from a DataFrame\n",
            "\n",
            "See the caveats in the documentation: https://pandas.pydata.org/pandas-docs/stable/user_guide/indexing.html#returning-a-view-versus-a-copy\n",
            "  df['FTR'][i] = df['AwayTeam'][i]\n",
            "<ipython-input-66-48745ba02164>:80: FutureWarning: Setting an item of incompatible dtype is deprecated and will raise an error in a future version of pandas. Value 'Norwich' has dtype incompatible with int64, please explicitly cast to a compatible dtype first.\n",
            "  df['FTR'][i] = df['AwayTeam'][i]\n",
            "<ipython-input-66-48745ba02164>:84: FutureWarning: ChainedAssignmentError: behaviour will change in pandas 3.0!\n",
            "You are setting values through chained assignment. Currently this works in certain cases, but when using Copy-on-Write (which will become the default behaviour in pandas 3.0) this will never work to update the original DataFrame or Series, because the intermediate object on which we are setting values will behave as a copy.\n",
            "A typical example is when you are setting values in a column of a DataFrame, like:\n",
            "\n",
            "df[\"col\"][row_indexer] = value\n",
            "\n",
            "Use `df.loc[row_indexer, \"col\"] = values` instead, to perform the assignment in a single step and ensure this keeps updating the original `df`.\n",
            "\n",
            "See the caveats in the documentation: https://pandas.pydata.org/pandas-docs/stable/user_guide/indexing.html#returning-a-view-versus-a-copy\n",
            "\n",
            "  df['HTR'][i] = df['HomeTeam'][i]\n",
            "<ipython-input-66-48745ba02164>:84: SettingWithCopyWarning: \n",
            "A value is trying to be set on a copy of a slice from a DataFrame\n",
            "\n",
            "See the caveats in the documentation: https://pandas.pydata.org/pandas-docs/stable/user_guide/indexing.html#returning-a-view-versus-a-copy\n",
            "  df['HTR'][i] = df['HomeTeam'][i]\n",
            "<ipython-input-66-48745ba02164>:84: FutureWarning: Setting an item of incompatible dtype is deprecated and will raise an error in a future version of pandas. Value 'Arsenal' has dtype incompatible with int64, please explicitly cast to a compatible dtype first.\n",
            "  df['HTR'][i] = df['HomeTeam'][i]\n"
          ]
        }
      ]
    },
    {
      "cell_type": "code",
      "source": [],
      "metadata": {
        "id": "-EBvYU0hLMFs"
      },
      "id": "-EBvYU0hLMFs",
      "execution_count": null,
      "outputs": []
    }
  ],
  "metadata": {
    "kernelspec": {
      "display_name": "Python 3 (ipykernel)",
      "language": "python",
      "name": "python3"
    },
    "language_info": {
      "codemirror_mode": {
        "name": "ipython",
        "version": 3
      },
      "file_extension": ".py",
      "mimetype": "text/x-python",
      "name": "python",
      "nbconvert_exporter": "python",
      "pygments_lexer": "ipython3",
      "version": "3.12.4"
    },
    "colab": {
      "provenance": []
    }
  },
  "nbformat": 4,
  "nbformat_minor": 5
}